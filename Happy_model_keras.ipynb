{
  "nbformat": 4,
  "nbformat_minor": 0,
  "metadata": {
    "colab": {
      "name": "Happy_model_keras.ipynb",
      "version": "0.3.2",
      "provenance": [],
      "collapsed_sections": [],
      "include_colab_link": true
    },
    "kernelspec": {
      "name": "python3",
      "display_name": "Python 3"
    },
    "accelerator": "GPU"
  },
  "cells": [
    {
      "cell_type": "markdown",
      "metadata": {
        "id": "view-in-github",
        "colab_type": "text"
      },
      "source": [
        "<a href=\"https://colab.research.google.com/github/Mohammad-Rahmdel/Happy_Face_Recognition/blob/master/Happy_model_keras.ipynb\" target=\"_parent\"><img src=\"https://colab.research.google.com/assets/colab-badge.svg\" alt=\"Open In Colab\"/></a>"
      ]
    },
    {
      "cell_type": "code",
      "metadata": {
        "id": "xZscpqZJYJhO",
        "colab_type": "code",
        "colab": {}
      },
      "source": [
        "!pip install PyDrive"
      ],
      "execution_count": 0,
      "outputs": []
    },
    {
      "cell_type": "code",
      "metadata": {
        "id": "ZZiUFVEqYlgw",
        "colab_type": "code",
        "colab": {}
      },
      "source": [
        "import os\n",
        "from pydrive.auth import GoogleAuth\n",
        "from pydrive.drive import GoogleDrive\n",
        "from google.colab import auth\n",
        "from oauth2client.client import GoogleCredentials"
      ],
      "execution_count": 0,
      "outputs": []
    },
    {
      "cell_type": "code",
      "metadata": {
        "id": "nC7Nvnb3Yn1D",
        "colab_type": "code",
        "colab": {}
      },
      "source": [
        "auth.authenticate_user()\n",
        "gauth = GoogleAuth()\n",
        "gauth.credentials = GoogleCredentials.get_application_default()\n",
        "drive = GoogleDrive(gauth)"
      ],
      "execution_count": 0,
      "outputs": []
    },
    {
      "cell_type": "code",
      "metadata": {
        "id": "qzO6OPSiYpOy",
        "colab_type": "code",
        "colab": {}
      },
      "source": [
        "download = drive.CreateFile({'id': '1ZEO2AbXBSQvXAjrHvwogH-h7O9E95Xrx'})\n",
        "download.GetContentFile('kt_utils.py')\n",
        "\n",
        "!mkdir datasets\n",
        "download = drive.CreateFile({'id': '1zsZa_qtvl_WeCJLGFOrPXqqya6kMz63L'})\n",
        "download.GetContentFile('datasets/train_happy.h5')\n",
        "download = drive.CreateFile({'id': '1ODfRLD-QlXtOT8w6tQZcLcmg-60AZMRM'})\n",
        "download.GetContentFile('datasets/test_happy.h5')\n"
      ],
      "execution_count": 0,
      "outputs": []
    },
    {
      "cell_type": "code",
      "metadata": {
        "id": "q_vRknq7aI8t",
        "colab_type": "code",
        "colab": {
          "base_uri": "https://localhost:8080/",
          "height": 1192
        },
        "outputId": "9108acae-c0ac-4e02-b694-93c62de3a9cd"
      },
      "source": [
        "import numpy as np\n",
        "from keras import layers\n",
        "from keras.layers import Input, Dense, Activation, ZeroPadding2D, BatchNormalization, Flatten, Conv2D\n",
        "from keras.layers import AveragePooling2D, MaxPooling2D, Dropout, GlobalMaxPooling2D, GlobalAveragePooling2D\n",
        "from keras.models import Model\n",
        "from keras.preprocessing import image\n",
        "from keras.utils import layer_utils\n",
        "from keras.utils.data_utils import get_file\n",
        "from keras.applications.imagenet_utils import preprocess_input\n",
        "import pydot\n",
        "from IPython.display import SVG\n",
        "from keras.utils.vis_utils import model_to_dot\n",
        "from keras.utils import plot_model\n",
        "from kt_utils import *\n",
        "\n",
        "import keras.backend as K\n",
        "K.set_image_data_format('channels_last')\n",
        "import matplotlib.pyplot as plt\n",
        "from matplotlib.pyplot import imshow\n",
        "\n",
        "from keras import regularizers\n",
        "\n",
        "\n",
        "\n",
        "X_train_orig, Y_train_orig, X_test_orig, Y_test_orig, classes = load_dataset()\n",
        "\n",
        "X_train = X_train_orig/255.\n",
        "X_test = X_test_orig/255.\n",
        "\n",
        "Y_train = Y_train_orig.T\n",
        "Y_test = Y_test_orig.T\n",
        "\n",
        "# print (\"number of training examples = \" + str(X_train.shape[0]))\n",
        "# print (\"number of test examples = \" + str(X_test.shape[0]))\n",
        "# print (\"X_train shape: \" + str(X_train.shape))\n",
        "# print (\"Y_train shape: \" + str(Y_train.shape))\n",
        "# print (\"X_test shape: \" + str(X_test.shape))\n",
        "# print (\"Y_test shape: \" + str(Y_test.shape))\n",
        "\n",
        "\n",
        "input_shape = X_train.shape[1]\n",
        "X_input = Input(shape= (input_shape,input_shape,3))\n",
        "X = ZeroPadding2D((3, 3))(X_input)\n",
        "\n",
        "\n",
        "# CONV -> Batch Normalization -> RELU Block applied to X\n",
        "# keras.layers.Conv2D(filters, kernel_size, strides=(1, 1), padding='valid', data_format=None, dilation_rate=(1, 1), activation=None, use_bias=True, kernel_initializer='glorot_uniform', bias_initializer='zeros', kernel_regularizer=None, bias_regularizer=None, activity_regularizer=None, kernel_constraint=None, bias_constraint=None)\n",
        "lambd = 3e-6\n",
        "X = Conv2D(32, (7, 7), strides = (1, 1), name = 'conv0', kernel_regularizer=regularizers.l2(lambd))(X)  # n_H = n_W = 7  n_C = 32\n",
        "X = BatchNormalization(axis = 3, name = 'bn0')(X)\n",
        "X = Activation('relu')(X)\n",
        "\n",
        "# MAXPOOL\n",
        "X = MaxPooling2D((2, 2), name='max_pool')(X)\n",
        "\n",
        "# FLATTEN X (means convert it to a vector) + FULLYCONNECTED\n",
        "# X = Dropout(0.9)(X)\n",
        "X = Flatten()(X)\n",
        "X = Dense(1, activation='sigmoid', name='fc')(X)\n",
        "# X = Dropout(1)(X)\n",
        "\n",
        "# Create model. This creates your Keras model instance, you'll use this instance to train/test the model.\n",
        "model = Model(inputs = X_input, outputs = X, name='HappyModel')\n",
        "\n",
        "\n",
        "\"\"\"\n",
        "You have now built a function to describe your model. To train and test this model, there are four steps in Keras:\n",
        "    1. Create the model by calling the function above\n",
        "    2. Compile the model by calling model.compile(optimizer = \"...\", loss = \"...\", metrics = [\"accuracy\"])\n",
        "    3. Train the model on train data by calling model.fit(x = ..., y = ..., epochs = ..., batch_size = ...)\n",
        "    4. Test the model on test data by calling model.evaluate(x = ..., y = ...)\n",
        "\"\"\"\n",
        "\n",
        "model.compile(optimizer = \"Adam\", loss = \"binary_crossentropy\", metrics = [\"accuracy\"])\n",
        "model.fit(x = X_train, y = Y_train, epochs = 30, batch_size = 32, shuffle=True)\n",
        "# model.summary()\n",
        "# # plot_model(model)\n",
        "\n",
        "preds = model.evaluate(X_train, Y_train)\n",
        "print (\"Test Accuracy = \" + str(preds[1]))\n",
        "preds = model.evaluate(X_test,Y_test)\n",
        "print (\"Test Accuracy = \" + str(preds[1]))\n"
      ],
      "execution_count": 19,
      "outputs": [
        {
          "output_type": "stream",
          "text": [
            "Epoch 1/30\n",
            "600/600 [==============================] - 1s 2ms/step - loss: 1.6660 - acc: 0.6583\n",
            "Epoch 2/30\n",
            "600/600 [==============================] - 0s 291us/step - loss: 0.4181 - acc: 0.8383\n",
            "Epoch 3/30\n",
            "600/600 [==============================] - 0s 270us/step - loss: 0.3385 - acc: 0.8617\n",
            "Epoch 4/30\n",
            "600/600 [==============================] - 0s 256us/step - loss: 0.1570 - acc: 0.9467\n",
            "Epoch 5/30\n",
            "600/600 [==============================] - 0s 266us/step - loss: 0.1159 - acc: 0.9583\n",
            "Epoch 6/30\n",
            "600/600 [==============================] - 0s 261us/step - loss: 0.0818 - acc: 0.9750\n",
            "Epoch 7/30\n",
            "600/600 [==============================] - 0s 251us/step - loss: 0.0703 - acc: 0.9767\n",
            "Epoch 8/30\n",
            "600/600 [==============================] - 0s 260us/step - loss: 0.0814 - acc: 0.9783\n",
            "Epoch 9/30\n",
            "600/600 [==============================] - 0s 268us/step - loss: 0.0640 - acc: 0.9867\n",
            "Epoch 10/30\n",
            "600/600 [==============================] - 0s 255us/step - loss: 0.0470 - acc: 0.9867\n",
            "Epoch 11/30\n",
            "600/600 [==============================] - 0s 269us/step - loss: 0.0557 - acc: 0.9867\n",
            "Epoch 12/30\n",
            "600/600 [==============================] - 0s 261us/step - loss: 0.0751 - acc: 0.9667\n",
            "Epoch 13/30\n",
            "600/600 [==============================] - 0s 258us/step - loss: 0.0975 - acc: 0.9700\n",
            "Epoch 14/30\n",
            "600/600 [==============================] - 0s 266us/step - loss: 0.0394 - acc: 0.9917\n",
            "Epoch 15/30\n",
            "600/600 [==============================] - 0s 269us/step - loss: 0.0343 - acc: 0.9917\n",
            "Epoch 16/30\n",
            "600/600 [==============================] - 0s 260us/step - loss: 0.0321 - acc: 0.9917\n",
            "Epoch 17/30\n",
            "600/600 [==============================] - 0s 258us/step - loss: 0.0717 - acc: 0.9767\n",
            "Epoch 18/30\n",
            "600/600 [==============================] - 0s 278us/step - loss: 0.0688 - acc: 0.9767\n",
            "Epoch 19/30\n",
            "600/600 [==============================] - 0s 259us/step - loss: 0.0398 - acc: 0.9900\n",
            "Epoch 20/30\n",
            "600/600 [==============================] - 0s 267us/step - loss: 0.0373 - acc: 0.9917\n",
            "Epoch 21/30\n",
            "600/600 [==============================] - 0s 263us/step - loss: 0.0393 - acc: 0.9883\n",
            "Epoch 22/30\n",
            "600/600 [==============================] - 0s 259us/step - loss: 0.0262 - acc: 0.9933\n",
            "Epoch 23/30\n",
            "600/600 [==============================] - 0s 247us/step - loss: 0.0556 - acc: 0.9817\n",
            "Epoch 24/30\n",
            "600/600 [==============================] - 0s 265us/step - loss: 0.0617 - acc: 0.9800\n",
            "Epoch 25/30\n",
            "600/600 [==============================] - 0s 254us/step - loss: 0.0235 - acc: 0.9950\n",
            "Epoch 26/30\n",
            "600/600 [==============================] - 0s 273us/step - loss: 0.0233 - acc: 0.9933\n",
            "Epoch 27/30\n",
            "600/600 [==============================] - 0s 272us/step - loss: 0.0244 - acc: 0.9933\n",
            "Epoch 28/30\n",
            "600/600 [==============================] - 0s 270us/step - loss: 0.0473 - acc: 0.9850\n",
            "Epoch 29/30\n",
            "600/600 [==============================] - 0s 258us/step - loss: 0.0188 - acc: 0.9933\n",
            "Epoch 30/30\n",
            "600/600 [==============================] - 0s 267us/step - loss: 0.0150 - acc: 0.9950\n",
            "600/600 [==============================] - 1s 956us/step\n",
            "Test Accuracy = 0.9966666666666667\n",
            "150/150 [==============================] - 0s 167us/step\n",
            "Test Accuracy = 0.9466666642824809\n"
          ],
          "name": "stdout"
        }
      ]
    }
  ]
}